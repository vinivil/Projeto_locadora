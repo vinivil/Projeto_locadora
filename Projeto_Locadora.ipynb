{
  "nbformat": 4,
  "nbformat_minor": 0,
  "metadata": {
    "colab": {
      "name": "Projeto Locadora",
      "provenance": [],
      "authorship_tag": "ABX9TyO/Zfc2HbdJ6DucFPNuTnma",
      "include_colab_link": true
    },
    "kernelspec": {
      "name": "python3",
      "display_name": "Python 3"
    }
  },
  "cells": [
    {
      "cell_type": "markdown",
      "metadata": {
        "id": "view-in-github",
        "colab_type": "text"
      },
      "source": [
        "<a href=\"https://colab.research.google.com/github/vinivil/Projeto_locadora/blob/master/Projeto_Locadora.ipynb\" target=\"_parent\"><img src=\"https://colab.research.google.com/assets/colab-badge.svg\" alt=\"Open In Colab\"/></a>"
      ]
    },
    {
      "cell_type": "markdown",
      "metadata": {
        "id": "RamjJRzLQXL_",
        "colab_type": "text"
      },
      "source": [
        "# **Projeto Locadora**\n"
      ]
    },
    {
      "cell_type": "markdown",
      "metadata": {
        "id": "-RRAF6sVKIET",
        "colab_type": "text"
      },
      "source": [
        "________________________________________________________________________________\n",
        "**1 - Cadastro de Clientes** **(0,25):**"
      ]
    },
    {
      "cell_type": "code",
      "metadata": {
        "id": "Wvx051FnkFl4",
        "colab_type": "code",
        "colab": {}
      },
      "source": [
        "def cadastro_client(x):\n",
        "  \"\"\"\n",
        "  Funcão que recebe e solicita as informações do cliente, quarda em um \n",
        "  dicionário e grava em um arquivo CSV.\n",
        "  \"\"\"\n",
        "  Cpf= eval(input(\"CPF:\")) \n",
        "  Rg = eval(input(\"RG:\")) \n",
        "  Nome = input(\"Nome:\")\n",
        "  x[Cpf] = [Nome, Cpf, Rg]\n",
        "# Criar Arquivo csv separado por \";\"\n",
        "  import csv\n",
        "  with open('clientes.csv', 'w', newline='') as file:\n",
        "    writer = csv.writer(file, delimiter=';')\n",
        "# Escreve uma linha com as informações do cliente no csv.\n",
        "    writer.writerow([\"Nome\", \"CPF\", \"RG\"])\n",
        "    for  i in x:\n",
        "      writer.writerow(x[i])\n",
        "\n",
        "  print(\"Cadastro Realizado!\")\n"
      ],
      "execution_count": null,
      "outputs": []
    },
    {
      "cell_type": "code",
      "metadata": {
        "id": "bsMH88XzyeW-",
        "colab_type": "code",
        "colab": {}
      },
      "source": [
        "# Criação de um dicionário\n",
        "Clientes = {}"
      ],
      "execution_count": null,
      "outputs": []
    },
    {
      "cell_type": "code",
      "metadata": {
        "id": "4a0-W9B40l4V",
        "colab_type": "code",
        "colab": {
          "base_uri": "https://localhost:8080/",
          "height": 153
        },
        "outputId": "73822029-6139-485a-a69b-b83917d1810e"
      },
      "source": [
        "# Cadastro do primeiro Cliente\n",
        "cadastro_client(Clientes)\n",
        "#Cadastro do Segundo cliente\n",
        "cadastro_client(Clientes)"
      ],
      "execution_count": null,
      "outputs": [
        {
          "output_type": "stream",
          "text": [
            "CPF:1111\n",
            "RG:1212\n",
            "Nome:Vinicius\n",
            "Cadastro Realizado!\n",
            "CPF:2222\n",
            "RG:2323\n",
            "Nome:Bruno\n",
            "Cadastro Realizado!\n"
          ],
          "name": "stdout"
        }
      ]
    },
    {
      "cell_type": "code",
      "metadata": {
        "id": "gBmXGfXcFTpf",
        "colab_type": "code",
        "colab": {
          "base_uri": "https://localhost:8080/",
          "height": 34
        },
        "outputId": "20342a96-59a1-47b6-e584-647a6462d412"
      },
      "source": [
        "Clientes"
      ],
      "execution_count": null,
      "outputs": [
        {
          "output_type": "execute_result",
          "data": {
            "text/plain": [
              "{1111: ['Vinicius', 1111, 1212], 2222: ['Bruno', 2222, 2323]}"
            ]
          },
          "metadata": {
            "tags": []
          },
          "execution_count": 82
        }
      ]
    },
    {
      "cell_type": "markdown",
      "metadata": {
        "id": "ui1qTVSHKVWx",
        "colab_type": "text"
      },
      "source": [
        "_______________________________________________________________________________\n",
        "**2 - Cadastro de Filmes (0,25):**"
      ]
    },
    {
      "cell_type": "code",
      "metadata": {
        "id": "2j_8tqJFxwBZ",
        "colab_type": "code",
        "colab": {}
      },
      "source": [
        "def controle_fitas_DVD(x):\n",
        "  \"\"\"\n",
        "  Função de cadastro das informaçoes das fitas e DVDs e as grava num arquivo \n",
        "  filmes.CSV\n",
        "  \"\"\"\n",
        "  tipo = input(\"Fita ou DVD:\") \n",
        "  codigo = eval(input(\"Código:\")) \n",
        "  nome = input(\"Título do filme:\")\n",
        "  ano = input(\"Ano de lançamento:\")\n",
        "  x[codigo] = [codigo, tipo, nome, ano]\n",
        "  \n",
        "  import csv\n",
        "  with open('filmes.csv', 'w', newline='') as file:\n",
        "    writer = csv.writer(file, delimiter=';')\n",
        "\n",
        "    writer.writerow([\"Código\", \"Tipo\", \"Título\", \"Ano\"])\n",
        "    for  i in x:\n",
        "      writer.writerow(x[i])\n",
        "\n",
        "  print(\"Filme cadastrado com sucesso\")"
      ],
      "execution_count": null,
      "outputs": []
    },
    {
      "cell_type": "code",
      "metadata": {
        "id": "hsp1a3ZgwEDm",
        "colab_type": "code",
        "colab": {}
      },
      "source": [
        "# Criação de um dicionário para Filmes\n",
        "Filmes = {}"
      ],
      "execution_count": null,
      "outputs": []
    },
    {
      "cell_type": "code",
      "metadata": {
        "id": "eUMfdpXah7RV",
        "colab_type": "code",
        "colab": {
          "base_uri": "https://localhost:8080/",
          "height": 527
        },
        "outputId": "f6005d9d-055b-491f-eeff-cf8c0a9288d8"
      },
      "source": [
        "#Cadastro do primeiro filme\n",
        "controle_fitas_DVD(Filmes)\n",
        "#Cadastro do segundo filme\n",
        "controle_fitas_DVD(Filmes)\n",
        "#Cadastro do terceiro filme\n",
        "controle_fitas_DVD(Filmes)\n",
        "#Cadastro do quarto filme\n",
        "controle_fitas_DVD(Filmes)\n",
        "#Cadastro do quinto filme\n",
        "controle_fitas_DVD(Filmes)\n",
        "#Cadastro do sexto filme\n",
        "controle_fitas_DVD(Filmes)\n"
      ],
      "execution_count": null,
      "outputs": [
        {
          "output_type": "stream",
          "text": [
            "Fita ou DVD:Fita\n",
            "Código:1\n",
            "Título do filme:Rei Leão\n",
            "Ano de lançamento:1994\n",
            "Filme cadastrado com sucesso\n",
            "Fita ou DVD:Fita\n",
            "Código:2\n",
            "Título do filme:Titanic\n",
            "Ano de lançamento:2000\n",
            "Filme cadastrado com sucesso\n",
            "Fita ou DVD:Fita\n",
            "Código:3\n",
            "Título do filme:Harry Potter\n",
            "Ano de lançamento:2008\n",
            "Filme cadastrado com sucesso\n",
            "Fita ou DVD:DVD\n",
            "Código:4\n",
            "Título do filme:Homem Aranha\n",
            "Ano de lançamento:2016\n",
            "Filme cadastrado com sucesso\n",
            "Fita ou DVD:DVD\n",
            "Código:5\n",
            "Título do filme:Os incríveis\n",
            "Ano de lançamento:2018\n",
            "Filme cadastrado com sucesso\n",
            "Fita ou DVD:DVD\n",
            "Código:6\n",
            "Título do filme:Power\n",
            "Ano de lançamento:2020\n",
            "Filme cadastrado com sucesso\n"
          ],
          "name": "stdout"
        }
      ]
    },
    {
      "cell_type": "code",
      "metadata": {
        "id": "TsT8tY3p21Fc",
        "colab_type": "code",
        "colab": {
          "base_uri": "https://localhost:8080/",
          "height": 119
        },
        "outputId": "81f1ee7b-1572-4064-d7ea-229bb5e33e32"
      },
      "source": [
        "Filmes"
      ],
      "execution_count": null,
      "outputs": [
        {
          "output_type": "execute_result",
          "data": {
            "text/plain": [
              "{1: [1, 'Fita', 'Rei Leão', '1994'],\n",
              " 2: [2, 'Fita', 'Titanic', '2000'],\n",
              " 3: [3, 'Fita', 'Harry Potter', '2008'],\n",
              " 4: [4, 'DVD', 'Homem Aranha', '2016'],\n",
              " 5: [5, 'DVD', 'Os incríveis', '2018'],\n",
              " 6: [6, 'DVD', 'Power', '2020']}"
            ]
          },
          "metadata": {
            "tags": []
          },
          "execution_count": 81
        }
      ]
    },
    {
      "cell_type": "markdown",
      "metadata": {
        "id": "-CLD69_uKxEt",
        "colab_type": "text"
      },
      "source": [
        "________________________________________________________________________________\n",
        "**3 - Registros de Empréstimos (0,5):**"
      ]
    },
    {
      "cell_type": "code",
      "metadata": {
        "id": "9qtt7Qpdw1w0",
        "colab_type": "code",
        "colab": {}
      },
      "source": [
        "def registro_emp(x):\n",
        "  \"\"\"\n",
        "  Função para registrar o processo de empréstimo em um arquivo csv.\n",
        "  \"\"\" \n",
        "  user = input(\"Nome do Usuário:\") \n",
        "  cod_film = eval(input(\"Código do Filme:\")) \n",
        "  data = input(\"Data de empréstimo:\")\n",
        "  x[user] = [user, cod_film, data]\n",
        "# Criação do arquivo emprestimos.csv\n",
        "  import csv\n",
        "  with open('emprestimos.csv', 'w', newline='') as file:\n",
        "    writer = csv.writer(file, delimiter=';')\n",
        "\n",
        "    writer.writerow([\"Usuário\", \"Código do Filme\", \"Data de empréstimo\"])\n",
        "    for  i in x:\n",
        "      writer.writerow(x[i])\n"
      ],
      "execution_count": null,
      "outputs": []
    },
    {
      "cell_type": "code",
      "metadata": {
        "id": "h5Qoldj94qoL",
        "colab_type": "code",
        "colab": {}
      },
      "source": [
        "# Criação de um dicionário para regristrar os emprestimos\n",
        "Emprestimo = {}"
      ],
      "execution_count": null,
      "outputs": []
    },
    {
      "cell_type": "code",
      "metadata": {
        "id": "5wci-mzGLVXY",
        "colab_type": "code",
        "colab": {
          "base_uri": "https://localhost:8080/",
          "height": 119
        },
        "outputId": "cadc5e15-efc2-4afd-9335-36a405a232d0"
      },
      "source": [
        "# Primeiro empréstimo\n",
        "registro_locacao(Emprestimo)\n",
        "# Sendundo empréstimo\n",
        "registro_locacao(Emprestimo)"
      ],
      "execution_count": null,
      "outputs": [
        {
          "output_type": "stream",
          "text": [
            "Nome do Usuário:Vinicius\n",
            "Código do Filme:1\n",
            "Data de empréstimo:15/08/2020\n",
            "Nome do Usuário:Bruno\n",
            "Código do Filme:3\n",
            "Data de empréstimo:07/08/2020\n"
          ],
          "name": "stdout"
        }
      ]
    },
    {
      "cell_type": "code",
      "metadata": {
        "id": "sg0JbsewwAdr",
        "colab_type": "code",
        "colab": {
          "base_uri": "https://localhost:8080/",
          "height": 51
        },
        "outputId": "69c666e4-8f33-4b03-ddbe-78a28c0b0e07"
      },
      "source": [
        "Emprestimo"
      ],
      "execution_count": null,
      "outputs": [
        {
          "output_type": "execute_result",
          "data": {
            "text/plain": [
              "{'Bruno': ['Bruno', 3, '07/08/2020'],\n",
              " 'Vinicius': ['Vinicius', 1, '15/08/2020']}"
            ]
          },
          "metadata": {
            "tags": []
          },
          "execution_count": 87
        }
      ]
    },
    {
      "cell_type": "markdown",
      "metadata": {
        "id": "4LbNjxXPLYoQ",
        "colab_type": "text"
      },
      "source": [
        "________________________________________________________________________________\n",
        "**4 - Relatório de Empréstimo (1):**"
      ]
    },
    {
      "cell_type": "code",
      "metadata": {
        "id": "c_bHJ1H2xPo7",
        "colab_type": "code",
        "colab": {}
      },
      "source": [
        "from datetime import datetime\n",
        "from datetime import date\n",
        "\n",
        "def delta_dias(inicial, final):\n",
        "    \"\"\"\n",
        "    Função que calcula a diferença em dias de duas datas\n",
        "    \"\"\"\n",
        "    # Data final\n",
        "    fim = datetime.strptime(inicial, '%d/%m/%Y')\n",
        "\n",
        "    # Data inicial\n",
        "    inicio = datetime.strptime(final, '%d/%m/%Y')\n",
        "\n",
        "    # Quantidade de dias entre o inicio e o fim\n",
        "    dias = abs((fim - inicio).days)\n",
        "    return dias"
      ],
      "execution_count": null,
      "outputs": []
    },
    {
      "cell_type": "code",
      "metadata": {
        "colab_type": "code",
        "id": "0gnZtDVqwCKr",
        "colab": {}
      },
      "source": [
        "def consulta(cpf):\n",
        "  \"\"\"\n",
        "  Função que, a partir de uma consulta com o cpf informa Relatório.\n",
        "  \"\"\"\n",
        "  # extrai as informações a apartir dos dicionário, não sei se pode, mas essa \n",
        "  # foi a solução que encontrei. \n",
        "  Cpf = Clientes[cpf][1]\n",
        "  nome = Emprestimo[Clientes[cpf][0]][0]\n",
        "  filme = Filmes[Emprestimo[Clientes[cpf][0]][1]][2]\n",
        "  data_emp = Emprestimo[Clientes[cpf][0]][2]\n",
        "\n",
        "  hoje = date.today()\n",
        "  hoje = hoje.strftime('%d/%m/%Y')\n",
        "  dias = delta_dias(data_emp, hoje)\n",
        "\n",
        "  if dias > 7:\n",
        "    a = \"Atrasado\"\n",
        "  else:\n",
        "    a = \"Em dia\"\n",
        "\n",
        "  relatorio = (Cpf,nome,filme,data_emp,a,dias)\n",
        "# grava as informações do relatório em um arquivo csv.\n",
        "  import csv\n",
        "  with open('relatorio.csv', 'w', newline='') as file:\n",
        "    writer = csv.writer(file)\n",
        "\n",
        "    writer.writerow([\"CPF\", \"Usuário\", \"Título do Filme\", \"Data de empréstico\",\n",
        "                     \"Situação\", \"Dias\"])\n",
        "    writer.writerow(relatorio)\n",
        "  \n",
        "#são testes para conferir a saida\n",
        "  print(cpf)\n",
        "  print(nome)\n",
        "  print(filme)\n",
        "  print(data_emp) \n",
        "  print(dias)\n",
        "  print(a)\n"
      ],
      "execution_count": null,
      "outputs": []
    },
    {
      "cell_type": "code",
      "metadata": {
        "id": "pdFfo0HY0Z1i",
        "colab_type": "code",
        "colab": {
          "base_uri": "https://localhost:8080/",
          "height": 119
        },
        "outputId": "54291918-ea26-4523-dd34-28c884d58bb0"
      },
      "source": [
        "consulta(1111)"
      ],
      "execution_count": null,
      "outputs": [
        {
          "output_type": "stream",
          "text": [
            "1111\n",
            "Vinicius\n",
            "Rei Leão\n",
            "15/08/2020\n",
            "4\n",
            "Em dia\n"
          ],
          "name": "stdout"
        }
      ]
    },
    {
      "cell_type": "code",
      "metadata": {
        "id": "IimSfYwLGxjH",
        "colab_type": "code",
        "colab": {
          "base_uri": "https://localhost:8080/",
          "height": 119
        },
        "outputId": "695db0e7-778f-4da4-f306-b0364962d08c"
      },
      "source": [
        "consulta(2222)"
      ],
      "execution_count": null,
      "outputs": [
        {
          "output_type": "stream",
          "text": [
            "2222\n",
            "Bruno\n",
            "Harry Potter\n",
            "07/08/2020\n",
            "12\n",
            "Atrasado\n"
          ],
          "name": "stdout"
        }
      ]
    }
  ]
}